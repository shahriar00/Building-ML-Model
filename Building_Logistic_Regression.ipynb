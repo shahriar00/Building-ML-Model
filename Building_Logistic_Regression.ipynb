{
  "nbformat": 4,
  "nbformat_minor": 0,
  "metadata": {
    "colab": {
      "provenance": [],
      "authorship_tag": "ABX9TyOH5HFa0bvcQV1WD9b2Zx5N"
    },
    "kernelspec": {
      "name": "python3",
      "display_name": "Python 3"
    },
    "language_info": {
      "name": "python"
    }
  },
  "cells": [
    {
      "cell_type": "code",
      "execution_count": 1,
      "metadata": {
        "id": "tRE2f3neiG8v"
      },
      "outputs": [],
      "source": [
        "import numpy as np"
      ]
    },
    {
      "cell_type": "code",
      "source": [
        "class logistic_regression():\n",
        "\n",
        "  def __init__(self,learning_rate, no_of_iteration):\n",
        "    self.learning_rate = learning_rate\n",
        "    self.no_of_iteration = no_of_iteration\n",
        "\n",
        "  def fit(self,X,Y):\n",
        "\n",
        "    self.m,self.n = X.shape\n",
        "\n",
        "    self.w = np.zeros(self.n)\n",
        "\n",
        "    self.b = 0\n",
        "\n",
        "    self.X = X\n",
        "\n",
        "    self.Y = Y\n",
        "\n",
        "\n",
        "    for i in range(self.no_of_iteration):\n",
        "      self.update_weights()\n",
        "\n",
        "  def update_weights(self):\n",
        "\n",
        "    #sigmoid function...............\n",
        "    Y_hat = 1/(1+np.exp(-(self.X.dot(self.w)+self.b)))\n",
        "\n",
        "\n",
        "    # derivaties\n",
        "\n",
        "    dw = (1/self.m)*np.dot(self.X.T, (Y_hat - self.Y))\n",
        "\n",
        "    db = (1/self.m)*np.sum(Y_hat - self.Y)\n",
        "\n",
        "\n",
        "    # updating the weights & bias using gradient descent\n",
        "\n",
        "    self.w = self.w - self.learning_rate * dw\n",
        "\n",
        "    self.b = self.b - self.learning_rate * db\n",
        "\n",
        "  def predict(self,X):\n",
        "    Y_pred = 1 / (1 + np.exp( - (X.dot(self.w) + self.b ) ))\n",
        "    Y_pred = np.where( Y_pred > 0.5, 1, 0)\n",
        "    return Y_pred"
      ],
      "metadata": {
        "id": "K1TVrihTjj41"
      },
      "execution_count": 3,
      "outputs": []
    },
    {
      "cell_type": "code",
      "source": [
        "import matplotlib.pyplot as plt\n",
        "import pandas as pd"
      ],
      "metadata": {
        "id": "uVxSNu-qrMgu"
      },
      "execution_count": 6,
      "outputs": []
    },
    {
      "cell_type": "code",
      "source": [
        "df = pd.read_csv('/content/diabetes.csv')"
      ],
      "metadata": {
        "id": "8gQR7v7prTqe"
      },
      "execution_count": 7,
      "outputs": []
    },
    {
      "cell_type": "code",
      "source": [
        "df.shape"
      ],
      "metadata": {
        "colab": {
          "base_uri": "https://localhost:8080/"
        },
        "id": "sOp2EBNzrXRl",
        "outputId": "00aba119-b7a3-4437-87c5-5854994262a6"
      },
      "execution_count": 8,
      "outputs": [
        {
          "output_type": "execute_result",
          "data": {
            "text/plain": [
              "(768, 9)"
            ]
          },
          "metadata": {},
          "execution_count": 8
        }
      ]
    },
    {
      "cell_type": "code",
      "source": [
        "from sklearn.preprocessing import StandardScaler\n",
        "from sklearn.model_selection import train_test_split\n",
        "from sklearn.metrics import accuracy_score\n"
      ],
      "metadata": {
        "id": "K6b2vIpnsYht"
      },
      "execution_count": 11,
      "outputs": []
    },
    {
      "cell_type": "code",
      "source": [
        "features = df.drop(columns = 'Outcome', axis=1)\n",
        "target = df['Outcome']"
      ],
      "metadata": {
        "id": "s5HcSBb6sZ9t"
      },
      "execution_count": 12,
      "outputs": []
    },
    {
      "cell_type": "code",
      "source": [
        "X_train, X_test, Y_train, Y_test = train_test_split(features,target, test_size = 0.2, random_state=2)"
      ],
      "metadata": {
        "id": "5Epks9EFrfR1"
      },
      "execution_count": 13,
      "outputs": []
    },
    {
      "cell_type": "code",
      "source": [
        "model = logistic_regression(learning_rate=0.01, no_of_iteration=1000)"
      ],
      "metadata": {
        "id": "gnQTEmNmsQ8N"
      },
      "execution_count": 16,
      "outputs": []
    },
    {
      "cell_type": "code",
      "source": [
        "model.fit(X_train, Y_train)"
      ],
      "metadata": {
        "id": "jHPZ3RGWtB0W"
      },
      "execution_count": 17,
      "outputs": []
    },
    {
      "cell_type": "code",
      "source": [
        "X_train_prediction = model.predict(X_train)\n",
        "accuracy_score( Y_train, X_train_prediction)"
      ],
      "metadata": {
        "colab": {
          "base_uri": "https://localhost:8080/"
        },
        "id": "bmyXtyCqtEz1",
        "outputId": "55ebb939-27f6-42a6-9574-e25ef4629c5b"
      },
      "execution_count": 19,
      "outputs": [
        {
          "output_type": "execute_result",
          "data": {
            "text/plain": [
              "0.6335504885993485"
            ]
          },
          "metadata": {},
          "execution_count": 19
        }
      ]
    },
    {
      "cell_type": "code",
      "source": [
        "X_train_prediction = model.predict(X_test)\n",
        "accuracy_score( Y_test, X_train_prediction)"
      ],
      "metadata": {
        "colab": {
          "base_uri": "https://localhost:8080/"
        },
        "id": "gEGhIewOtSD2",
        "outputId": "35d0c779-6f20-4a38-f76e-115fd30328cf"
      },
      "execution_count": 20,
      "outputs": [
        {
          "output_type": "execute_result",
          "data": {
            "text/plain": [
              "0.7142857142857143"
            ]
          },
          "metadata": {},
          "execution_count": 20
        }
      ]
    }
  ]
}